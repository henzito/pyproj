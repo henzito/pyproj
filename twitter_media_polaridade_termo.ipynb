{
 "cells": [
  {
   "cell_type": "code",
   "execution_count": 12,
   "metadata": {
    "collapsed": true
   },
   "outputs": [],
   "source": [
    "import tweepy\n",
    "import numpy as np\n",
    "from textblob import TextBlob as tb\n",
    "\n",
    "consumer_key = 'bWZIis35IHKb8AdUP8jHwXDvr'\n",
    "consumer_secret = 'GApNHl6ENGjN0yK3ASPb9lig2otiEw1xVCFFm66tyl7dUhtAIx'\n",
    "\n",
    "\n",
    "access_token = '39369347-rj54chTEJdsPBMAhaVDZ2BFmOmjgIF9UP9CUnF5r9'\n",
    "access_token_secret = 'Ml82Pd5cUmClswh1aGrv19nO4h6PJe3rWmqssijpU69EY'\n",
    "\n",
    "auth = tweepy.OAuthHandler(consumer_key, consumer_secret)\n",
    "auth.set_access_token(access_token, access_token_secret)\n",
    "\n",
    "api = tweepy.API(auth)\n"
   ]
  },
  {
   "cell_type": "code",
   "execution_count": 28,
   "metadata": {},
   "outputs": [
    {
     "name": "stdout",
     "output_type": "stream",
     "text": [
      "A media eh  -0.0357135642136\n"
     ]
    }
   ],
   "source": [
    "public_tweets = api.search('North Korea')\n",
    "L = []\n",
    "for tweet in public_tweets:\n",
    "    #print(tweet.text)\n",
    "    analysis = tb(tweet.text)\n",
    "    L.append(list(analysis.sentiment)) \n",
    "L2 = [item[0] for item in L]\n",
    "a = np.array(L2)\n",
    "print('A media eh ',np.mean(a))"
   ]
  },
  {
   "cell_type": "code",
   "execution_count": 10,
   "metadata": {},
   "outputs": [
    {
     "data": {
      "text/plain": [
       "[0.35, 0.65, 0.0, 0.0]"
      ]
     },
     "execution_count": 10,
     "metadata": {},
     "output_type": "execute_result"
    }
   ],
   "source": [
    "L[1]+L[2]"
   ]
  },
  {
   "cell_type": "code",
   "execution_count": 9,
   "metadata": {},
   "outputs": [
    {
     "data": {
      "text/plain": [
       "[0.9375, 1.0]"
      ]
     },
     "execution_count": 9,
     "metadata": {},
     "output_type": "execute_result"
    }
   ],
   "source": [
    "L[0]"
   ]
  },
  {
   "cell_type": "code",
   "execution_count": null,
   "metadata": {
    "collapsed": true
   },
   "outputs": [],
   "source": []
  }
 ],
 "metadata": {
  "kernelspec": {
   "display_name": "Python 3",
   "language": "python",
   "name": "python3"
  },
  "language_info": {
   "codemirror_mode": {
    "name": "ipython",
    "version": 3
   },
   "file_extension": ".py",
   "mimetype": "text/x-python",
   "name": "python",
   "nbconvert_exporter": "python",
   "pygments_lexer": "ipython3",
   "version": "3.6.3"
  }
 },
 "nbformat": 4,
 "nbformat_minor": 2
}
